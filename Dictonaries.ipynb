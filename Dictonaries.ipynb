{
  "nbformat": 4,
  "nbformat_minor": 0,
  "metadata": {
    "colab": {
      "name": "Dictonaries.ipynb",
      "provenance": [],
      "authorship_tag": "ABX9TyNBh/eGNZuDkUGVtrPaw/3c"
    },
    "kernelspec": {
      "name": "python3",
      "display_name": "Python 3"
    },
    "language_info": {
      "name": "python"
    }
  },
  "cells": [
    {
      "cell_type": "markdown",
      "metadata": {
        "id": "43iaDySjvGUg"
      },
      "source": [
        "# Dictonaries Key-Value Pairs, Unordered, Mutable"
      ]
    },
    {
      "cell_type": "code",
      "metadata": {
        "colab": {
          "base_uri": "https://localhost:8080/"
        },
        "id": "m0XhWojnu-Ze",
        "outputId": "d8df4ea1-57e5-430d-cef1-74c64571e595"
      },
      "source": [
        "mydict = {\"name\": \"sriram\", \"age\":48, \"city\" : \"Chennai\"}\n",
        "print(mydict)"
      ],
      "execution_count": 2,
      "outputs": [
        {
          "output_type": "stream",
          "text": [
            "{'name': 'sriram', 'age': 48, 'city': 'Chennai'}\n"
          ],
          "name": "stdout"
        }
      ]
    },
    {
      "cell_type": "code",
      "metadata": {
        "colab": {
          "base_uri": "https://localhost:8080/"
        },
        "id": "QrZCUtX-vmi7",
        "outputId": "656c22e9-2c9e-4663-e9b5-ac42c84b6e9c"
      },
      "source": [
        "mydict2 = dict(name=\"sriram\", ag=48, city=\"Chennai\")\n",
        "print(mydict2)"
      ],
      "execution_count": 4,
      "outputs": [
        {
          "output_type": "stream",
          "text": [
            "{'name': 'sriram', 'ag': 48, 'city': 'Chennai'}\n"
          ],
          "name": "stdout"
        }
      ]
    },
    {
      "cell_type": "code",
      "metadata": {
        "colab": {
          "base_uri": "https://localhost:8080/"
        },
        "id": "BKKPoLUTv-Qp",
        "outputId": "38ae1376-e352-477c-e907-7d7cf26af59b"
      },
      "source": [
        "value = mydict[\"name\"]\n",
        "print(value)"
      ],
      "execution_count": 5,
      "outputs": [
        {
          "output_type": "stream",
          "text": [
            "sriram\n"
          ],
          "name": "stdout"
        }
      ]
    },
    {
      "cell_type": "code",
      "metadata": {
        "colab": {
          "base_uri": "https://localhost:8080/"
        },
        "id": "7Ot9eQ1wwJ79",
        "outputId": "7d6ddd18-0da2-41f3-922b-9c7b2d00dfb7"
      },
      "source": [
        "mydict[\"email\"] = \"sri@example.com\"\n",
        "print(mydict)"
      ],
      "execution_count": 7,
      "outputs": [
        {
          "output_type": "stream",
          "text": [
            "{'name': 'sriram', 'age': 48, 'city': 'Chennai', 'email': 'sri@example.com'}\n"
          ],
          "name": "stdout"
        }
      ]
    },
    {
      "cell_type": "code",
      "metadata": {
        "colab": {
          "base_uri": "https://localhost:8080/"
        },
        "id": "fhinm21fwfpV",
        "outputId": "4d61af62-0f10-4593-a209-438e21bfd349"
      },
      "source": [
        "del mydict[\"email\"] # we can use pop() or popitem() method to remove a key value pair\n",
        "print(mydict)"
      ],
      "execution_count": 8,
      "outputs": [
        {
          "output_type": "stream",
          "text": [
            "{'name': 'sriram', 'age': 48, 'city': 'Chennai'}\n"
          ],
          "name": "stdout"
        }
      ]
    },
    {
      "cell_type": "code",
      "metadata": {
        "colab": {
          "base_uri": "https://localhost:8080/"
        },
        "id": "tpOhDJ5vwpMJ",
        "outputId": "e152c862-db0a-4ac8-86bc-34719dc29a0d"
      },
      "source": [
        "if \"name\" in mydict:\n",
        "  print(mydict[\"name\"])"
      ],
      "execution_count": 9,
      "outputs": [
        {
          "output_type": "stream",
          "text": [
            "sriram\n"
          ],
          "name": "stdout"
        }
      ]
    },
    {
      "cell_type": "code",
      "metadata": {
        "colab": {
          "base_uri": "https://localhost:8080/"
        },
        "id": "oxlivpFUw-Bn",
        "outputId": "b7c99f06-f158-4999-9476-f2cb088823a4"
      },
      "source": [
        "for key in mydict:\n",
        "  print(key)"
      ],
      "execution_count": 11,
      "outputs": [
        {
          "output_type": "stream",
          "text": [
            "name\n",
            "age\n",
            "city\n"
          ],
          "name": "stdout"
        }
      ]
    },
    {
      "cell_type": "code",
      "metadata": {
        "colab": {
          "base_uri": "https://localhost:8080/"
        },
        "id": "hRt0v5Mfxbi0",
        "outputId": "07c9cd8b-418e-4249-e5f0-477df8430a42"
      },
      "source": [
        "for value in mydict:\n",
        "  print(value)"
      ],
      "execution_count": 13,
      "outputs": [
        {
          "output_type": "stream",
          "text": [
            "name\n",
            "age\n",
            "city\n"
          ],
          "name": "stdout"
        }
      ]
    },
    {
      "cell_type": "code",
      "metadata": {
        "colab": {
          "base_uri": "https://localhost:8080/"
        },
        "id": "82Xx_c-WxtjE",
        "outputId": "7340551c-1330-48f3-c2f5-cfeda7708adc"
      },
      "source": [
        "for key, value in mydict.items():\n",
        "  print(key, value)"
      ],
      "execution_count": 16,
      "outputs": [
        {
          "output_type": "stream",
          "text": [
            "name sriram\n",
            "age 48\n",
            "city Chennai\n"
          ],
          "name": "stdout"
        }
      ]
    },
    {
      "cell_type": "code",
      "metadata": {
        "id": "cEWegyN7x1Jk"
      },
      "source": [
        "#copying in dictonary behaves same as lists\n"
      ],
      "execution_count": 17,
      "outputs": []
    },
    {
      "cell_type": "code",
      "metadata": {
        "id": "2KCA6dTMyZq5"
      },
      "source": [
        ""
      ],
      "execution_count": null,
      "outputs": []
    }
  ]
}