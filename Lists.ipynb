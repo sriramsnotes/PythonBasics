{
  "nbformat": 4,
  "nbformat_minor": 0,
  "metadata": {
    "colab": {
      "name": "Lists.ipynb",
      "provenance": [],
      "authorship_tag": "ABX9TyNUa8ZXt243btQLBpbAUQAT"
    },
    "kernelspec": {
      "name": "python3",
      "display_name": "Python 3"
    },
    "language_info": {
      "name": "python"
    }
  },
  "cells": [
    {
      "cell_type": "markdown",
      "metadata": {
        "id": "IJ0aOyITPOuF"
      },
      "source": [
        " # Lists - Ordered, Mutable allows duplicate elements"
      ]
    },
    {
      "cell_type": "code",
      "metadata": {
        "colab": {
          "base_uri": "https://localhost:8080/"
        },
        "id": "ih8bo0waPJw8",
        "outputId": "f646427c-f753-4921-a961-cc15401a01e4"
      },
      "source": [
        "mylist = [1,2,3]\n",
        "print(mylist)\n",
        "newlist = list()\n",
        "print(newlist)\n",
        "print(mylist[0])\n",
        "print(mylist[-1])"
      ],
      "execution_count": 17,
      "outputs": [
        {
          "output_type": "stream",
          "text": [
            "[1, 2, 3]\n",
            "[]\n",
            "1\n",
            "3\n"
          ],
          "name": "stdout"
        }
      ]
    },
    {
      "cell_type": "code",
      "metadata": {
        "colab": {
          "base_uri": "https://localhost:8080/"
        },
        "id": "T2UgbmC3PP3W",
        "outputId": "64c70979-a427-4ab0-d496-0d859e436b25"
      },
      "source": [
        "for i in mylist:\n",
        "  print(i)"
      ],
      "execution_count": 4,
      "outputs": [
        {
          "output_type": "stream",
          "text": [
            "1\n",
            "2\n",
            "3\n"
          ],
          "name": "stdout"
        }
      ]
    },
    {
      "cell_type": "code",
      "metadata": {
        "colab": {
          "base_uri": "https://localhost:8080/"
        },
        "id": "JfeGxZBrPVf0",
        "outputId": "19112440-198f-4214-ced2-3a8c19eb600d"
      },
      "source": [
        "if 1 in mylist:\n",
        "  print(\"yes\")\n",
        "else: print(\"no\")"
      ],
      "execution_count": 5,
      "outputs": [
        {
          "output_type": "stream",
          "text": [
            "yes\n"
          ],
          "name": "stdout"
        }
      ]
    },
    {
      "cell_type": "code",
      "metadata": {
        "colab": {
          "base_uri": "https://localhost:8080/"
        },
        "id": "KbWkfozQRHM3",
        "outputId": "d0571d56-256d-4269-b524-ff9240fd9de3"
      },
      "source": [
        "len(mylist)"
      ],
      "execution_count": 6,
      "outputs": [
        {
          "output_type": "execute_result",
          "data": {
            "text/plain": [
              "3"
            ]
          },
          "metadata": {
            "tags": []
          },
          "execution_count": 6
        }
      ]
    },
    {
      "cell_type": "code",
      "metadata": {
        "colab": {
          "base_uri": "https://localhost:8080/"
        },
        "id": "M-MSwC_vRRY3",
        "outputId": "7d16e2fa-bbef-497c-831f-8ac0989f8133"
      },
      "source": [
        "mylist.append(4)\n",
        "len(mylist)"
      ],
      "execution_count": 7,
      "outputs": [
        {
          "output_type": "execute_result",
          "data": {
            "text/plain": [
              "4"
            ]
          },
          "metadata": {
            "tags": []
          },
          "execution_count": 7
        }
      ]
    },
    {
      "cell_type": "code",
      "metadata": {
        "colab": {
          "base_uri": "https://localhost:8080/"
        },
        "id": "IIuXm6DqRqAC",
        "outputId": "b096b1af-21df-4fa1-cf59-07196d139649"
      },
      "source": [
        "value = mylist.pop()\n",
        "print(value)\n",
        "print(mylist)\n",
        "mylist.append(4)\n",
        "mylist.append(5)"
      ],
      "execution_count": 18,
      "outputs": [
        {
          "output_type": "stream",
          "text": [
            "3\n",
            "[1, 2]\n"
          ],
          "name": "stdout"
        }
      ]
    },
    {
      "cell_type": "code",
      "metadata": {
        "colab": {
          "base_uri": "https://localhost:8080/"
        },
        "id": "2dk7yjq5SM6F",
        "outputId": "f1c75630-7033-4752-edcf-1497aca9f7de"
      },
      "source": [
        "mylist.remove(1)\n",
        "print(mylist)\n",
        "len(mylist)"
      ],
      "execution_count": 19,
      "outputs": [
        {
          "output_type": "stream",
          "text": [
            "[2, 4, 5]\n"
          ],
          "name": "stdout"
        },
        {
          "output_type": "execute_result",
          "data": {
            "text/plain": [
              "3"
            ]
          },
          "metadata": {
            "tags": []
          },
          "execution_count": 19
        }
      ]
    },
    {
      "cell_type": "code",
      "metadata": {
        "colab": {
          "base_uri": "https://localhost:8080/"
        },
        "id": "THyJUSWKStmc",
        "outputId": "9dcc8db1-02ef-41a2-9d08-2eb0143b2dd0"
      },
      "source": [
        "mylist.clear()\n",
        "len(mylist)"
      ],
      "execution_count": 20,
      "outputs": [
        {
          "output_type": "execute_result",
          "data": {
            "text/plain": [
              "0"
            ]
          },
          "metadata": {
            "tags": []
          },
          "execution_count": 20
        }
      ]
    },
    {
      "cell_type": "code",
      "metadata": {
        "colab": {
          "base_uri": "https://localhost:8080/"
        },
        "id": "49E71aacS3QP",
        "outputId": "9ee6e75b-52ee-4a6a-9ea7-cc8cff78168f"
      },
      "source": [
        "mylist = [1,2,3,4,5]\n",
        "print(mylist)\n",
        "mylist.reverse()\n",
        "print(mylist)\n",
        "mylist.sort()\n",
        "print(mylist)"
      ],
      "execution_count": 22,
      "outputs": [
        {
          "output_type": "stream",
          "text": [
            "[1, 2, 3, 4, 5]\n",
            "[5, 4, 3, 2, 1]\n",
            "[1, 2, 3, 4, 5]\n"
          ],
          "name": "stdout"
        }
      ]
    },
    {
      "cell_type": "code",
      "metadata": {
        "colab": {
          "base_uri": "https://localhost:8080/"
        },
        "id": "TWsy10jQTZUu",
        "outputId": "c1ba6969-47d2-46b8-ab76-c8d2940cbcfb"
      },
      "source": [
        "newList = sorted(mylist)\n",
        "print(newList)"
      ],
      "execution_count": 23,
      "outputs": [
        {
          "output_type": "stream",
          "text": [
            "[1, 2, 3, 4, 5]\n"
          ],
          "name": "stdout"
        }
      ]
    },
    {
      "cell_type": "code",
      "metadata": {
        "colab": {
          "base_uri": "https://localhost:8080/"
        },
        "id": "o123ivfgUdn8",
        "outputId": "dab9dd63-f535-4673-a3d6-cb4efea4750c"
      },
      "source": [
        "multiplylist = [0] * 5\n",
        "print(multiplylist)"
      ],
      "execution_count": 25,
      "outputs": [
        {
          "output_type": "stream",
          "text": [
            "[0, 0, 0, 0, 0]\n"
          ],
          "name": "stdout"
        }
      ]
    },
    {
      "cell_type": "code",
      "metadata": {
        "colab": {
          "base_uri": "https://localhost:8080/"
        },
        "id": "N9BaGkIrUkwH",
        "outputId": "7af629ef-5eaa-4148-d786-5db1d5ab8486"
      },
      "source": [
        "mylist2 = [6,7,8,9,10]\n",
        "new_list1 = mylist + mylist2\n",
        "print(new_list1)"
      ],
      "execution_count": 28,
      "outputs": [
        {
          "output_type": "stream",
          "text": [
            "[1, 2, 3, 4, 5, 6, 7, 8, 9, 10]\n"
          ],
          "name": "stdout"
        }
      ]
    },
    {
      "cell_type": "code",
      "metadata": {
        "colab": {
          "base_uri": "https://localhost:8080/"
        },
        "id": "-P8JQcE5VLZP",
        "outputId": "ad3d7415-e105-4920-d3a9-5c2451c0a0ba"
      },
      "source": [
        "a = new_list1[1:5]\n",
        "print(a)"
      ],
      "execution_count": 29,
      "outputs": [
        {
          "output_type": "stream",
          "text": [
            "[2, 3, 4, 5]\n"
          ],
          "name": "stdout"
        }
      ]
    },
    {
      "cell_type": "code",
      "metadata": {
        "colab": {
          "base_uri": "https://localhost:8080/"
        },
        "id": "zVjkl9MNW0tg",
        "outputId": "4b4daa00-8aeb-4290-8b4d-6e60890c7f4c"
      },
      "source": [
        "a = new_list1[::2] # [start:stop:step]\n",
        "print(a)"
      ],
      "execution_count": 30,
      "outputs": [
        {
          "output_type": "stream",
          "text": [
            "[1, 3, 5, 7, 9]\n"
          ],
          "name": "stdout"
        }
      ]
    },
    {
      "cell_type": "code",
      "metadata": {
        "colab": {
          "base_uri": "https://localhost:8080/"
        },
        "id": "HTzNWX7DXdm5",
        "outputId": "4d365900-e9a6-4cee-efda-e3acb779066f"
      },
      "source": [
        "b = a # original and new list points to the same list in memory\n",
        "print(b)"
      ],
      "execution_count": 31,
      "outputs": [
        {
          "output_type": "stream",
          "text": [
            "[1, 3, 5, 7, 9]\n"
          ],
          "name": "stdout"
        }
      ]
    },
    {
      "cell_type": "code",
      "metadata": {
        "colab": {
          "base_uri": "https://localhost:8080/"
        },
        "id": "hqlt9d7vXsFf",
        "outputId": "6794d253-f07f-454d-f7b6-ed70b34d53b1"
      },
      "source": [
        "b.append(10)\n",
        "print(b)\n",
        "print(a)"
      ],
      "execution_count": 32,
      "outputs": [
        {
          "output_type": "stream",
          "text": [
            "[1, 3, 5, 7, 9, 10]\n",
            "[1, 3, 5, 7, 9, 10]\n"
          ],
          "name": "stdout"
        }
      ]
    },
    {
      "cell_type": "code",
      "metadata": {
        "colab": {
          "base_uri": "https://localhost:8080/"
        },
        "id": "BmC3DYMRYFrD",
        "outputId": "46950c73-3e17-4658-c504-84a753f5bb9f"
      },
      "source": [
        "c = a.copy() #new copy of a-list is assigned to c-list, same does a[:] or c = list(a)\n",
        "c.append(11)\n",
        "print(c)\n",
        "print(a)"
      ],
      "execution_count": 33,
      "outputs": [
        {
          "output_type": "stream",
          "text": [
            "[1, 3, 5, 7, 9, 10, 11]\n",
            "[1, 3, 5, 7, 9, 10]\n"
          ],
          "name": "stdout"
        }
      ]
    },
    {
      "cell_type": "code",
      "metadata": {
        "colab": {
          "base_uri": "https://localhost:8080/"
        },
        "id": "K4qDXoHMY7a9",
        "outputId": "1f6d0660-aab3-4bb4-84d2-dea4eeb41de8"
      },
      "source": [
        "d = [i* i for i in new_list1]\n",
        "print(d)"
      ],
      "execution_count": 34,
      "outputs": [
        {
          "output_type": "stream",
          "text": [
            "[1, 4, 9, 16, 25, 36, 49, 64, 81, 100]\n"
          ],
          "name": "stdout"
        }
      ]
    },
    {
      "cell_type": "markdown",
      "metadata": {
        "id": "3x90jPoSPL_p"
      },
      "source": [
        ""
      ]
    }
  ]
}