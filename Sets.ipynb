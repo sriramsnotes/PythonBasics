{
  "nbformat": 4,
  "nbformat_minor": 0,
  "metadata": {
    "colab": {
      "name": "Sets.ipynb",
      "provenance": [],
      "authorship_tag": "ABX9TyMJBWmk5DKzhGO7EoLYAHJr"
    },
    "kernelspec": {
      "name": "python3",
      "display_name": "Python 3"
    },
    "language_info": {
      "name": "python"
    }
  },
  "cells": [
    {
      "cell_type": "markdown",
      "metadata": {
        "id": "eQ8GavjF0qNe"
      },
      "source": [
        "# Sets - Unordered, mutable, no duplicates"
      ]
    },
    {
      "cell_type": "code",
      "metadata": {
        "colab": {
          "base_uri": "https://localhost:8080/"
        },
        "id": "w6gTmo1p00lE",
        "outputId": "a363c76a-11e4-4531-c927-2d576c54172e"
      },
      "source": [
        "myset = {1,2,3,4,5}\n",
        "print(myset)"
      ],
      "execution_count": 1,
      "outputs": [
        {
          "output_type": "stream",
          "text": [
            "{1, 2, 3, 4, 5}\n"
          ],
          "name": "stdout"
        }
      ]
    },
    {
      "cell_type": "code",
      "metadata": {
        "colab": {
          "base_uri": "https://localhost:8080/"
        },
        "id": "brttUY7B1Ad1",
        "outputId": "5161fcb1-6268-41a9-e476-c99536ce2ea1"
      },
      "source": [
        "myiterset =set([1,2,3]) \n",
        "print(myiterset)"
      ],
      "execution_count": 6,
      "outputs": [
        {
          "output_type": "stream",
          "text": [
            "{1, 2, 3}\n"
          ],
          "name": "stdout"
        }
      ]
    },
    {
      "cell_type": "code",
      "metadata": {
        "colab": {
          "base_uri": "https://localhost:8080/"
        },
        "id": "t-QXPu5U1KO0",
        "outputId": "35b3bb04-8558-4cb3-ad1c-055dd198dd9d"
      },
      "source": [
        "mystrset = set(\"sriram\")\n",
        "print(mystrset)"
      ],
      "execution_count": 7,
      "outputs": [
        {
          "output_type": "stream",
          "text": [
            "{'a', 'r', 's', 'i', 'm'}\n"
          ],
          "name": "stdout"
        }
      ]
    },
    {
      "cell_type": "code",
      "metadata": {
        "id": "YWOP7tWS3l1f"
      },
      "source": [
        "#adding and removing items to a set is similar to lists"
      ],
      "execution_count": null,
      "outputs": []
    },
    {
      "cell_type": "code",
      "metadata": {
        "id": "A4VwFSnS2-98"
      },
      "source": [
        "#iteration of sets also similar like lists or tuples \"for i in myset:\""
      ],
      "execution_count": 8,
      "outputs": []
    },
    {
      "cell_type": "code",
      "metadata": {
        "id": "QcxK7n5g4Oya"
      },
      "source": [
        "#checking a value to be present or not is like \"if 1 in myset:\""
      ],
      "execution_count": 9,
      "outputs": []
    },
    {
      "cell_type": "code",
      "metadata": {
        "colab": {
          "base_uri": "https://localhost:8080/"
        },
        "id": "sYtcCswr4T2z",
        "outputId": "0ce5f2fd-bfc8-479b-9b1a-151c6dd0f3dd"
      },
      "source": [
        "odds = {1,3,5,7,9}\n",
        "evens = {0,2,4,6,8}\n",
        "primes = {2,3,5,7}\n",
        "u = odds.union(evens)\n",
        "print(u)"
      ],
      "execution_count": 10,
      "outputs": [
        {
          "output_type": "stream",
          "text": [
            "{0, 1, 2, 3, 4, 5, 6, 7, 8, 9}\n"
          ],
          "name": "stdout"
        }
      ]
    },
    {
      "cell_type": "code",
      "metadata": {
        "colab": {
          "base_uri": "https://localhost:8080/"
        },
        "id": "QUw7176L5BBM",
        "outputId": "e4e533c7-6fc3-4ced-9e5e-ea19b50c2911"
      },
      "source": [
        "i = evens.intersection(primes)\n",
        "print(i)"
      ],
      "execution_count": 11,
      "outputs": [
        {
          "output_type": "stream",
          "text": [
            "{2}\n"
          ],
          "name": "stdout"
        }
      ]
    },
    {
      "cell_type": "code",
      "metadata": {
        "colab": {
          "base_uri": "https://localhost:8080/"
        },
        "id": "hyZ3v4FR5Rz2",
        "outputId": "3ecf7655-ac8c-4ab9-ab4b-dfe8f433364f"
      },
      "source": [
        "setA = {1,2,3,4,5,6,7,8,9}\n",
        "setB = {1,2,3,10,11,12}\n",
        "diff = setB.difference(setA)\n",
        "print(diff)"
      ],
      "execution_count": 12,
      "outputs": [
        {
          "output_type": "stream",
          "text": [
            "{10, 11, 12}\n"
          ],
          "name": "stdout"
        }
      ]
    },
    {
      "cell_type": "code",
      "metadata": {
        "colab": {
          "base_uri": "https://localhost:8080/"
        },
        "id": "Eh5adEL96M3z",
        "outputId": "8b8dd25f-cdae-4213-b671-bf1ef76653ee"
      },
      "source": [
        "setA.update(setB)\n",
        "print(setA)"
      ],
      "execution_count": 13,
      "outputs": [
        {
          "output_type": "stream",
          "text": [
            "{1, 2, 3, 4, 5, 6, 7, 8, 9, 10, 11, 12}\n"
          ],
          "name": "stdout"
        }
      ]
    },
    {
      "cell_type": "code",
      "metadata": {
        "colab": {
          "base_uri": "https://localhost:8080/"
        },
        "id": "KalhhDbV6mTf",
        "outputId": "5a89505f-f1ad-4c64-dc0b-4b9c3ff9be2e"
      },
      "source": [
        "setA.intersection_update(setB)\n",
        "print(setA)"
      ],
      "execution_count": 14,
      "outputs": [
        {
          "output_type": "stream",
          "text": [
            "{1, 2, 3, 10, 11, 12}\n"
          ],
          "name": "stdout"
        }
      ]
    },
    {
      "cell_type": "code",
      "metadata": {
        "colab": {
          "base_uri": "https://localhost:8080/"
        },
        "id": "JBvG_FKV6uy2",
        "outputId": "1d4f06c9-5ab1-4432-81b6-7eb5117fbd3e"
      },
      "source": [
        "setA = {1,2,3,4,5,6,7,8,9}\n",
        "setB = {1,2,3,10,11,12}\n",
        "setA.difference_update(setB)\n",
        "print(setA)"
      ],
      "execution_count": 16,
      "outputs": [
        {
          "output_type": "stream",
          "text": [
            "{4, 5, 6, 7, 8, 9}\n"
          ],
          "name": "stdout"
        }
      ]
    },
    {
      "cell_type": "code",
      "metadata": {
        "colab": {
          "base_uri": "https://localhost:8080/"
        },
        "id": "acIgj73x61NS",
        "outputId": "3b16fdc2-9f3f-46a0-ae96-727142638718"
      },
      "source": [
        "setA = {1,2,3,4,5,6,7,8,9}\n",
        "setB = {1,2,3,10,11,12}\n",
        "print(setA.isdisjoint(setB))\n",
        " "
      ],
      "execution_count": 21,
      "outputs": [
        {
          "output_type": "stream",
          "text": [
            "False\n"
          ],
          "name": "stdout"
        }
      ]
    },
    {
      "cell_type": "code",
      "metadata": {
        "id": "07BMEokO7WC7"
      },
      "source": [
        "#copying is similar to lists"
      ],
      "execution_count": 22,
      "outputs": []
    },
    {
      "cell_type": "code",
      "metadata": {
        "colab": {
          "base_uri": "https://localhost:8080/"
        },
        "id": "dy9_Tnpn7tID",
        "outputId": "69a33247-b266-44af-e49c-402aedf8d0bc"
      },
      "source": [
        "a = frozenset([1,2,3]) #nothing can be changed in this\n",
        "print(a)"
      ],
      "execution_count": 24,
      "outputs": [
        {
          "output_type": "stream",
          "text": [
            "frozenset({1, 2, 3})\n"
          ],
          "name": "stdout"
        }
      ]
    },
    {
      "cell_type": "code",
      "metadata": {
        "id": "2VWGY0Qs8QZc"
      },
      "source": [
        ""
      ],
      "execution_count": null,
      "outputs": []
    }
  ]
}