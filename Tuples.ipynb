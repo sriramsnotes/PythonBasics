{
  "nbformat": 4,
  "nbformat_minor": 0,
  "metadata": {
    "colab": {
      "name": "Tuples.ipynb",
      "provenance": [],
      "authorship_tag": "ABX9TyMNpYRiGEZVNroMM5zKYwfG"
    },
    "kernelspec": {
      "name": "python3",
      "display_name": "Python 3"
    },
    "language_info": {
      "name": "python"
    }
  },
  "cells": [
    {
      "cell_type": "markdown",
      "metadata": {
        "id": "P87v8yYgqQO7"
      },
      "source": [
        "# Tuples - Ordered, Immutable, allows duplicate elements"
      ]
    },
    {
      "cell_type": "code",
      "metadata": {
        "colab": {
          "base_uri": "https://localhost:8080/"
        },
        "id": "k1vu0OpjZvDj",
        "outputId": "f355873a-38b9-4333-86f8-58fd055dbcc3"
      },
      "source": [
        "myTuple = \"you\", \"me\", \"them\"\n",
        "print(myTuple)"
      ],
      "execution_count": 1,
      "outputs": [
        {
          "output_type": "stream",
          "text": [
            "('you', 'me', 'them')\n"
          ],
          "name": "stdout"
        }
      ]
    },
    {
      "cell_type": "code",
      "metadata": {
        "colab": {
          "base_uri": "https://localhost:8080/"
        },
        "id": "-CLSOf-DqtAr",
        "outputId": "64371201-f8b0-41a5-cca1-23bc1b08b5ed"
      },
      "source": [
        "singleTuple = (\"single\",) #if comma not added then it will be recognized as str not a tuple\n",
        "print(type(singleTuple))"
      ],
      "execution_count": 2,
      "outputs": [
        {
          "output_type": "stream",
          "text": [
            "<class 'tuple'>\n"
          ],
          "name": "stdout"
        }
      ]
    },
    {
      "cell_type": "code",
      "metadata": {
        "colab": {
          "base_uri": "https://localhost:8080/"
        },
        "id": "TMQuYbrurI-g",
        "outputId": "ca3b84a5-3f5b-4cc5-c203-e47659d252f5"
      },
      "source": [
        "anotherTuple = tuple([1,2,3])\n",
        "print(anotherTuple)"
      ],
      "execution_count": 3,
      "outputs": [
        {
          "output_type": "stream",
          "text": [
            "(1, 2, 3)\n"
          ],
          "name": "stdout"
        }
      ]
    },
    {
      "cell_type": "code",
      "metadata": {
        "colab": {
          "base_uri": "https://localhost:8080/"
        },
        "id": "xackyVwUrY2p",
        "outputId": "c7144dd6-a9a9-4aec-b574-e0d537111605"
      },
      "source": [
        "item = anotherTuple[1]\n",
        "print(item)"
      ],
      "execution_count": 4,
      "outputs": [
        {
          "output_type": "stream",
          "text": [
            "2\n"
          ],
          "name": "stdout"
        }
      ]
    },
    {
      "cell_type": "code",
      "metadata": {
        "colab": {
          "base_uri": "https://localhost:8080/"
        },
        "id": "OSwT9Ld8rmOI",
        "outputId": "cc909919-17c8-4aac-a4e4-1d7f4dac5e30"
      },
      "source": [
        "for i in anotherTuple:\n",
        "  print(i)"
      ],
      "execution_count": 5,
      "outputs": [
        {
          "output_type": "stream",
          "text": [
            "1\n",
            "2\n",
            "3\n"
          ],
          "name": "stdout"
        }
      ]
    },
    {
      "cell_type": "code",
      "metadata": {
        "colab": {
          "base_uri": "https://localhost:8080/"
        },
        "id": "yk58ZeUUr7hT",
        "outputId": "b2f50726-f4d9-48c7-dfea-892afada346d"
      },
      "source": [
        "if 1 in anotherTuple:\n",
        "  print(\"yes\")\n",
        "else: print(\"no\")"
      ],
      "execution_count": 6,
      "outputs": [
        {
          "output_type": "stream",
          "text": [
            "yes\n"
          ],
          "name": "stdout"
        }
      ]
    },
    {
      "cell_type": "code",
      "metadata": {
        "colab": {
          "base_uri": "https://localhost:8080/"
        },
        "id": "vMe7hccxsFmX",
        "outputId": "783a309e-4930-47aa-f87a-d282e7c0d361"
      },
      "source": [
        "anotherTuple.index(3)"
      ],
      "execution_count": 7,
      "outputs": [
        {
          "output_type": "execute_result",
          "data": {
            "text/plain": [
              "2"
            ]
          },
          "metadata": {
            "tags": []
          },
          "execution_count": 7
        }
      ]
    },
    {
      "cell_type": "code",
      "metadata": {
        "colab": {
          "base_uri": "https://localhost:8080/"
        },
        "id": "5C78Oi8BseIy",
        "outputId": "bc4b51b7-6465-47d1-e6d6-f566852f3456"
      },
      "source": [
        "myList = list(anotherTuple)\n",
        "print(myList)"
      ],
      "execution_count": 8,
      "outputs": [
        {
          "output_type": "stream",
          "text": [
            "[1, 2, 3]\n"
          ],
          "name": "stdout"
        }
      ]
    },
    {
      "cell_type": "code",
      "metadata": {
        "colab": {
          "base_uri": "https://localhost:8080/"
        },
        "id": "KG9aDIiostIE",
        "outputId": "6c7df6b4-73a1-44dc-a38e-24777630db52"
      },
      "source": [
        "mytuple = tuple(myList)\n",
        "print(mytuple)"
      ],
      "execution_count": 9,
      "outputs": [
        {
          "output_type": "stream",
          "text": [
            "(1, 2, 3)\n"
          ],
          "name": "stdout"
        }
      ]
    },
    {
      "cell_type": "code",
      "metadata": {
        "id": "bUEyTEdVsyOz"
      },
      "source": [
        "#slicing of a tuple is same as lists (start:stop:step)"
      ],
      "execution_count": 10,
      "outputs": []
    },
    {
      "cell_type": "code",
      "metadata": {
        "colab": {
          "base_uri": "https://localhost:8080/"
        },
        "id": "T_AKNKTltKNg",
        "outputId": "d84f4eb2-5ae9-4e63-c907-6f94a6ce551c"
      },
      "source": [
        "import sys\n",
        "print(sys.getsizeof(myList), \" bytes\")\n",
        "print(sys.getsizeof(mytuple), \" bytes\")"
      ],
      "execution_count": 11,
      "outputs": [
        {
          "output_type": "stream",
          "text": [
            "120  bytes\n",
            "80  bytes\n"
          ],
          "name": "stdout"
        }
      ]
    },
    {
      "cell_type": "code",
      "metadata": {
        "colab": {
          "base_uri": "https://localhost:8080/"
        },
        "id": "nRQxHJKiuBcI",
        "outputId": "520d2960-66ba-490f-f16a-09c898eab6e6"
      },
      "source": [
        "import timeit\n",
        "print(timeit.timeit(stmt=\"[0,1,2,3,4,5]\", number=1000000))\n",
        "print(timeit.timeit(stmt=\"(0,1,2,3,4,5)\", number=1000000))"
      ],
      "execution_count": 12,
      "outputs": [
        {
          "output_type": "stream",
          "text": [
            "0.0691345000000183\n",
            "0.009296512999981132\n"
          ],
          "name": "stdout"
        }
      ]
    },
    {
      "cell_type": "code",
      "metadata": {
        "id": "N6bcw8dGukmu"
      },
      "source": [
        ""
      ],
      "execution_count": null,
      "outputs": []
    }
  ]
}